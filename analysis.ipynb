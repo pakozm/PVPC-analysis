{
 "metadata": {
  "name": "",
  "signature": "sha256:f23cd8850fb995e2c85cda620d2fb391bbaff46656fb83b8d41f6e798dda2dd3"
 },
 "nbformat": 3,
 "nbformat_minor": 0,
 "worksheets": [
  {
   "cells": [
    {
     "cell_type": "code",
     "collapsed": false,
     "input": [
      "%matplotlib inline\n",
      "import datetime\n",
      "import matplotlib.pyplot as plt\n",
      "import os\n",
      "import pandas as pd\n",
      "import ree_pvpc\n",
      "from datetime import datetime\n",
      "FILE_NAME = \"GEN_20141129_20151129.csv\""
     ],
     "language": "python",
     "metadata": {},
     "outputs": [],
     "prompt_number": 28
    },
    {
     "cell_type": "code",
     "collapsed": false,
     "input": [
      "if os.path.exists(FILE_NAME):\n",
      "    pvpc_ts = pd.Series.from_csv(FILE_NAME, header=True)\n",
      "else:\n",
      "    pvpc_ts = ree_pvpc.generate_series(\"20141129\",\"20151129\")"
     ],
     "language": "python",
     "metadata": {},
     "outputs": [],
     "prompt_number": 51
    },
    {
     "cell_type": "code",
     "collapsed": false,
     "input": [
      "gn_p1 = [0.141019] * len(pvpc_ts[:datetime(2015, 7, 31, 23)])\n",
      "gn_p2 = [0.136557] * len(pvpc_ts[datetime(2015, 8, 1):])\n",
      "gn_ts = pd.Series(gn_p1 + gn_p2, index=pvpc_ts.index)"
     ],
     "language": "python",
     "metadata": {},
     "outputs": [],
     "prompt_number": 65
    },
    {
     "cell_type": "code",
     "collapsed": false,
     "input": [
      "diff = pvpc_ts - gn_ts\n",
      "g = diff.groupby(lambda x: x.hour>9 and x.hour < 23)\n",
      "diff_day = diff[g.groups[True]]\n",
      "diff_night = diff[g.groups[False]]"
     ],
     "language": "python",
     "metadata": {},
     "outputs": [],
     "prompt_number": 89
    },
    {
     "cell_type": "code",
     "collapsed": false,
     "input": [
      "diff_day.hist(bins=50)"
     ],
     "language": "python",
     "metadata": {},
     "outputs": [
      {
       "metadata": {},
       "output_type": "pyout",
       "prompt_number": 90,
       "text": [
        "<matplotlib.axes._subplots.AxesSubplot at 0x7ff59f8a7410>"
       ]
      },
      {
       "metadata": {},
       "output_type": "display_data",
       "png": "[encoded data removed]",
       "text": [
        "<matplotlib.figure.Figure at 0x7ff59ffe88d0>"
       ]
      }
     ],
     "prompt_number": 90
    },
    {
     "cell_type": "code",
     "collapsed": false,
     "input": [
      "diff_night.hist(bins=50)"
     ],
     "language": "python",
     "metadata": {},
     "outputs": [
      {
       "metadata": {},
       "output_type": "pyout",
       "prompt_number": 91,
       "text": [
        "<matplotlib.axes._subplots.AxesSubplot at 0x7ff59f4af910>"
       ]
      },
      {
       "metadata": {},
       "output_type": "display_data",
       "png": "[encoded data removed]",
       "text": [
        "<matplotlib.figure.Figure at 0x7ff59f3ed090>"
       ]
      }
     ],
     "prompt_number": 91
    }
   ],
   "metadata": {}
  }
 ]
}